{
 "cells": [
  {
   "cell_type": "code",
   "execution_count": 1,
   "id": "54e65613",
   "metadata": {},
   "outputs": [],
   "source": [
    "import cv2\n",
    "import numpy as np"
   ]
  },
  {
   "cell_type": "code",
   "execution_count": 7,
   "id": "c682142c",
   "metadata": {
    "scrolled": false
   },
   "outputs": [],
   "source": [
    "cap = cv2.VideoCapture('./Hand Video2.mov')\n",
    "frame_width = int( cap.get(cv2.CAP_PROP_FRAME_WIDTH))\n",
    "\n",
    "frame_height =int( cap.get( cv2.CAP_PROP_FRAME_HEIGHT))\n",
    "\n",
    "fourcc = cv2.VideoWriter_fourcc('X','V','I','D')\n",
    "\n",
    "out = cv2.VideoWriter(\"hand_output.avi\", fourcc, 5.0, (1280,720))\n",
    "\n",
    "ret, frame1 = cap.read()\n",
    "ret, frame2 = cap.read()\n",
    "\n",
    "while cap.isOpened():\n",
    "    diff = cv2.absdiff(frame1, frame2)\n",
    "    gray = cv2.cvtColor(diff, cv2.COLOR_BGR2GRAY)\n",
    "    blur = cv2.GaussianBlur(gray, (5,5), 0)\n",
    "    _, thresh = cv2.threshold(blur, 20, 255, cv2.THRESH_BINARY)\n",
    "    kernel = np.ones((10, 10), np.uint8)\n",
    "    dilated = cv2.dilate(thresh, kernel, iterations=3)\n",
    "\n",
    "    cnt, labels, stats, centroids = cv2.connectedComponentsWithStats(dilated)\n",
    "    \n",
    "    if cnt >= 2:\n",
    "        min_x = 10000\n",
    "        min_y = 10000 \n",
    "        max_w = 0\n",
    "        max_h = 0\n",
    "        \n",
    "        for i in range(1, cnt): \n",
    "            (x, y, w, h, area) = stats[i]\n",
    "\n",
    "            # 노이즈 제거\n",
    "            if area < 20:\n",
    "                continue\n",
    "                \n",
    "            min_x = min(min_x, x)\n",
    "            min_y = min(min_y, y)\n",
    "            max_w = max(max_w, w)\n",
    "            max_h = max(max_h, h)\n",
    "      \n",
    "        cv2.rectangle(frame1, (min_x, min_y, max_w, max_h), (0, 255, 255)) \n",
    "        cv2.putText(frame1,\"(201711379) Motion detected!\", (10, 30), cv2.FONT_HERSHEY_DUPLEX, 0.5,(0, 0,255))        \n",
    "    \n",
    "\n",
    "    image = cv2.resize(frame1, (1280,720))\n",
    "    \n",
    "    out.write(image)\n",
    "    cv2.imshow(\"output\", frame1)\n",
    "    \n",
    "    frame1 = frame2\n",
    "    ret, frame2 = cap.read()\n",
    "    \n",
    "    if not ret:\n",
    "        break\n",
    "\n",
    "    if cv2.waitKey(20) == 27:\n",
    "        break\n",
    "\n",
    "cv2.destroyAllWindows()\n",
    "cap.release()\n",
    "out.release()"
   ]
  },
  {
   "cell_type": "code",
   "execution_count": null,
   "id": "3fd6f2d6",
   "metadata": {},
   "outputs": [],
   "source": []
  }
 ],
 "metadata": {
  "kernelspec": {
   "display_name": "Python 3 (ipykernel)",
   "language": "python",
   "name": "python3"
  },
  "language_info": {
   "codemirror_mode": {
    "name": "ipython",
    "version": 3
   },
   "file_extension": ".py",
   "mimetype": "text/x-python",
   "name": "python",
   "nbconvert_exporter": "python",
   "pygments_lexer": "ipython3",
   "version": "3.8.10"
  }
 },
 "nbformat": 4,
 "nbformat_minor": 5
}
